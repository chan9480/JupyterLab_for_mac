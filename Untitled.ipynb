{
 "cells": [
  {
   "cell_type": "markdown",
   "id": "500b4c09",
   "metadata": {},
   "source": [
    "### mac gpu 사용가능확인 (1이면 사용가능)"
   ]
  },
  {
   "cell_type": "code",
   "execution_count": 1,
   "id": "d7af62bc",
   "metadata": {},
   "outputs": [],
   "source": [
    "import tensorflow as tf"
   ]
  },
  {
   "cell_type": "code",
   "execution_count": 2,
   "id": "ea9aa630",
   "metadata": {},
   "outputs": [
    {
     "name": "stdout",
     "output_type": "stream",
     "text": [
      "Num GPUs Available:  1\n"
     ]
    }
   ],
   "source": [
    "print(\"Num GPUs Available: \", len(tf.config.experimental.list_physical_devices('GPU')))"
   ]
  },
  {
   "cell_type": "markdown",
   "id": "f34e9bc0",
   "metadata": {},
   "source": [
    "# import"
   ]
  },
  {
   "cell_type": "code",
   "execution_count": 2,
   "id": "5563b4c6",
   "metadata": {},
   "outputs": [],
   "source": [
    "# tensorflow.compat.v2 를 사용\n",
    "import tensorflow.compat.v2 as tf"
   ]
  },
  {
   "cell_type": "markdown",
   "id": "9fca3837",
   "metadata": {},
   "source": [
    "# dataset"
   ]
  },
  {
   "cell_type": "code",
   "execution_count": 5,
   "id": "03cc5ae5",
   "metadata": {},
   "outputs": [],
   "source": [
    "pass"
   ]
  },
  {
   "cell_type": "markdown",
   "id": "ba3934e7",
   "metadata": {},
   "source": [
    "# 전처리"
   ]
  },
  {
   "cell_type": "code",
   "execution_count": 6,
   "id": "14a01efa",
   "metadata": {},
   "outputs": [
    {
     "name": "stdout",
     "output_type": "stream",
     "text": [
      "test\n"
     ]
    }
   ],
   "source": [
    "print('test')"
   ]
  },
  {
   "cell_type": "markdown",
   "id": "e5e22ce3",
   "metadata": {},
   "source": [
    "# 전역변수"
   ]
  },
  {
   "cell_type": "code",
   "execution_count": 7,
   "id": "70c3d07c",
   "metadata": {},
   "outputs": [],
   "source": [
    "class CFG():\n",
    "    def __init__(self):\n",
    "        self.batch_size = 64"
   ]
  },
  {
   "cell_type": "markdown",
   "id": "d5aee54e",
   "metadata": {},
   "source": [
    "# optimizer, loss func.."
   ]
  },
  {
   "cell_type": "code",
   "execution_count": 8,
   "id": "6d66605d",
   "metadata": {},
   "outputs": [],
   "source": [
    "optimizer = tf.keras.optimizers.SGD(learning_rate=1e-3)\n",
    "\n",
    "loss_fn = tf.keras.losses.SparseCategoricalCrossentropy(from_logits=True)\n",
    "\n"
   ]
  },
  {
   "cell_type": "markdown",
   "id": "1d589303",
   "metadata": {},
   "source": [
    "# model 정의"
   ]
  },
  {
   "cell_type": "code",
   "execution_count": 11,
   "id": "db640294",
   "metadata": {},
   "outputs": [],
   "source": [
    "model = tf.keras.layers.Dense(2, activation=\"relu\")"
   ]
  },
  {
   "cell_type": "markdown",
   "id": "d28da6c1",
   "metadata": {},
   "source": [
    "# trian step 정의"
   ]
  },
  {
   "cell_type": "code",
   "execution_count": 12,
   "id": "921ad928",
   "metadata": {},
   "outputs": [],
   "source": [
    "@tf.function\n",
    "def train_step(x, y):\n",
    "    '''\n",
    "    배치 한번에 대한 학습과정을 커스터마이징\n",
    "    '''\n",
    "    with tf.GradientTape() as tape:\n",
    "        # 1. 모델사용 예측 (prediction)\n",
    "        predictions = model(x)\n",
    "        # 2. Loss 계산\n",
    "        loss = loss_function(y, predictions)\n",
    "    \n",
    "    # 3. 그라디언트(gradients) 계산\n",
    "    gradients = tape.gradient(loss, model.trainable_variables)\n",
    "    \n",
    "    # 4. 오차역전파(Backpropagation) - weight 업데이트\n",
    "    optimizer.apply_gradients(zip(gradients, model.trainable_variables))\n",
    "    \n",
    "    # loss와 accuracy를 업데이트 합니다.\n",
    "    train_loss(loss)\n",
    "    train_acc(y, predictions)"
   ]
  },
  {
   "cell_type": "code",
   "execution_count": null,
   "id": "06d691eb",
   "metadata": {},
   "outputs": [],
   "source": []
  }
 ],
 "metadata": {
  "kernelspec": {
   "display_name": "Python 3 (ipykernel)",
   "language": "python",
   "name": "python3"
  },
  "language_info": {
   "codemirror_mode": {
    "name": "ipython",
    "version": 3
   },
   "file_extension": ".py",
   "mimetype": "text/x-python",
   "name": "python",
   "nbconvert_exporter": "python",
   "pygments_lexer": "ipython3",
   "version": "3.8.12"
  }
 },
 "nbformat": 4,
 "nbformat_minor": 5
}
